{
    "cells": [
        {
            "metadata": {
                "collapsed": true
            },
            "cell_type": "markdown",
            "source": "# My Jupyter Notebook on IBM Watson Studio"
        },
        {
            "metadata": {},
            "cell_type": "markdown",
            "source": "__Paola Sakuda__\n\n100% Human"
        },
        {
            "metadata": {},
            "cell_type": "markdown",
            "source": "_I am interested in data science because I want to add more skills in my career._"
        },
        {
            "metadata": {},
            "cell_type": "markdown",
            "source": "### Sum of two variables"
        },
        {
            "metadata": {},
            "cell_type": "code",
            "source": "def sumar(a,b):\n    return a+b\nsumar(1,2)",
            "execution_count": 3,
            "outputs": [
                {
                    "output_type": "execute_result",
                    "execution_count": 3,
                    "data": {
                        "text/plain": "3"
                    },
                    "metadata": {}
                }
            ]
        },
        {
            "metadata": {},
            "cell_type": "markdown",
            "source": " - one\n - two\n - three\n - one\n - two\n - three\n \n [link text](https://miro.medium.com/max/770/0*d4HBrVZg4-xQIn80.jpg)\n \n <img src=\"https://miro.medium.com/max/770/0*d4HBrVZg4-xQIn80.jpg\" alt=\"Alt text\" title=\"Title text\" />"
        }
    ],
    "metadata": {
        "kernelspec": {
            "name": "python3",
            "display_name": "Python 3.6",
            "language": "python"
        },
        "language_info": {
            "name": "python",
            "version": "3.6.9",
            "mimetype": "text/x-python",
            "codemirror_mode": {
                "name": "ipython",
                "version": 3
            },
            "pygments_lexer": "ipython3",
            "nbconvert_exporter": "python",
            "file_extension": ".py"
        }
    },
    "nbformat": 4,
    "nbformat_minor": 1
}